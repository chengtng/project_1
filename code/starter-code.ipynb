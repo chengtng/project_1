{
 "cells": [
  {
   "cell_type": "markdown",
   "metadata": {},
   "source": [
    "<img src=\"http://imgur.com/1ZcRyrc.png\" style=\"float: left; margin: 20px; height: 55px\">\n",
    "\n",
    "# Project 1: Data Analysis of Singapore Rainfall"
   ]
  },
  {
   "cell_type": "markdown",
   "metadata": {},
   "source": [
    "--- \n",
    "# Part 1\n",
    "\n",
    "Part 1 requires knowledge of basic Python.\n",
    "\n",
    "---"
   ]
  },
  {
   "cell_type": "markdown",
   "metadata": {},
   "source": [
    "### Contents:\n",
    "- [Background](#Background)\n",
    "- [Data Import & Cleaning](#Data-Import-and-Cleaning)\n",
    "- [Exploratory Data Analysis](#Exploratory-Data-Analysis)\n",
    "- [Data Visualization](#Visualize-the-Data)\n",
    "- [Conclusions and Recommendations](#Conclusions-and-Recommendations)"
   ]
  },
  {
   "cell_type": "markdown",
   "metadata": {},
   "source": [
    "## Background"
   ]
  },
  {
   "cell_type": "markdown",
   "metadata": {},
   "source": [
    "According to the [Meteorological Services Singapore](http://www.weather.gov.sg/climate-climate-of-singapore/#:~:text=Singapore%20is%20situated%20near%20the,month%2Dto%2Dmonth%20variation.), Singapore has typical tropical climate with adundant rainfall, high and uniform temperatures and high humidity all year round, since its situated near the equator. There are many factors that help us understand the climate of a country and in this project we are going to look into a few, especially rainfall.\n",
    "\n",
    "Singapore’s climate is characterised by two main monsoon seasons separated by inter-monsoonal periods.  The **Northeast Monsoon** occurs from December to early March, and the **Southwest Monsoon** from June to September.\n",
    "\n",
    "The major weather systems affecting Singapore that can lead to heavy rainfall are:\n",
    "\n",
    "-Monsoon surges, or strong wind episodes in the Northeast Monsoon flow bringing about major rainfall events;\n",
    "\n",
    "-Sumatra squalls, an organised line of thunderstorms travelling eastward across Singapore, having developed over the island of Sumatra or Straits of Malacca west of us;\n",
    "\n",
    "-Afternoon and evening thunderstorms caused by strong surface heating and by the sea breeze circulation that develops in the afternoon.\n",
    "\n",
    "Singapore’s climate station has been located at several different sites in the past 140 years. The station had been decommissioned at various points in the past due to changes to local land use in the site’s vicinity, and had to be relocated. Since 1984, the climate station has been located at **Changi**.\n",
    "\n",
    "There are other metrics of climate such as temperature, humidity, sun shine duration, wind speed, cloud cover etc. All the dataset used in the project comes from [data.gov.sg](data.gov.sg), as recorded at the Changi climate station \n"
   ]
  },
  {
   "cell_type": "markdown",
   "metadata": {},
   "source": [
    "### Choose your Data\n",
    "\n",
    "There are 2 datasets included in the [`data`](./data/) folder for this project. These correponds to rainfall information. \n",
    "\n",
    "* [`rainfall-monthly-number-of-rain-days.csv`](./data/rainfall-monthly-number-of-rain-days.csv): Monthly number of rain days from 1982 to 2022. A day is considered to have “rained” if the total rainfall for that day is 0.2mm or more.\n",
    "* [`rainfall-monthly-total.csv`](./data/rainfall-monthly-total.csv): Monthly total rain recorded in mm(millimeters) from 1982 to 2022\n",
    "\n",
    "Other relevant weather datasets from [data.gov.sg](data.gov.sg) that you can download and use are as follows:\n",
    "\n",
    "* [Relative Humidity](https://data.gov.sg/dataset/relative-humidity-monthly-mean)\n",
    "* [Monthly Maximum Daily Rainfall](https://data.gov.sg/dataset/rainfall-monthly-maximum-daily-total)\n",
    "* [Hourly wet buld temperature](https://data.gov.sg/dataset/wet-bulb-temperature-hourly)\n",
    "* [Monthly mean sunshine hours](https://data.gov.sg/dataset/sunshine-duration-monthly-mean-daily-duration)\n",
    "* [Surface Air Temperature](https://data.gov.sg/dataset/surface-air-temperature-mean-daily-minimum)\n",
    "\n",
    "You can also use other datasets for your analysis, make sure to cite the source when you are using them"
   ]
  },
  {
   "cell_type": "markdown",
   "metadata": {},
   "source": [
    "**To-Do:** *Fill out this cell with the datasets you will use for your analysis. Write a brief description of the contents for each dataset that you choose.*"
   ]
  },
  {
   "cell_type": "markdown",
   "metadata": {},
   "source": [
    "## Problem Statement"
   ]
  },
  {
   "cell_type": "markdown",
   "metadata": {},
   "source": [
    "Decide on your problem statement that will guide your analysis for this project. For guidelines, sample prompts, or inspiration, check out the README.\n",
    "\n",
    "**To-Do:** \n",
    "\n",
    "1. Analyse the temperature and humidity in singapore for optimising air conditioning of office buildings and shopping malls\n",
    "2. Analyse the sunshine hours in singapore for good places to deploy solar panels\n",
    "3. Analyse areas with flood risks"
   ]
  },
  {
   "cell_type": "markdown",
   "metadata": {},
   "source": [
    "Rainfall affects daily activities of Singapore population, hence it is worth analysing rainfall data to identify trends "
   ]
  },
  {
   "cell_type": "markdown",
   "metadata": {},
   "source": [
    "### Outside Research"
   ]
  },
  {
   "cell_type": "markdown",
   "metadata": {},
   "source": [
    "Based on your problem statement and your chosen datasets, spend some time doing outside research on how climate change is affecting different industries or additional information that might be relevant. Summarize your findings below. If you bring in any outside tables or charts, make sure you are explicit about having borrowed them. If you quote any text, make sure that it renders as being quoted. **Make sure that you cite your sources.**"
   ]
  },
  {
   "cell_type": "markdown",
   "metadata": {},
   "source": [
    "**To-Do:** *Fill out this cell with outside research or any additional background information that will support your analysis.*"
   ]
  },
  {
   "cell_type": "markdown",
   "metadata": {},
   "source": [
    "Singapore has more hour-to-hour variation in climate variables, but have uniformly high rainfall, temperature and humidity from month-to-month.\n",
    "\n",
    "There is Northeast Monsoon Season from December to March and Southwest Monsoon Season from June to September every year. Inter monsoon seasons are characterised by late afternoon or early evening thunderstorms.\n",
    "\n",
    "Singapore has plenty rainfall at 167 raindays and 2165.9mm rainfall on average per year. Usually rain the most in the afternoons during Northeast Monsoon Season from December to March.\n",
    "\n",
    "Singapore has mean temperature of 26-28 throughout the year, with lowest in the Northeast Monsoon Season from December to March.\n",
    "\n",
    "Reference: http://www.weather.gov.sg/climate-climate-of-singapore/\n",
    "\n",
    "Note: \n",
    "1. Maybe can try to replicate the tables in the reference for a start\n",
    "2. The results are averaged monthly over 1981 to 2010. For our analysis, we can see the change over the years instead."
   ]
  },
  {
   "cell_type": "markdown",
   "metadata": {},
   "source": [
    "### Coding Challenges\n",
    "\n",
    "1. Manually calculate mean:\n",
    "\n",
    "    Write a function that takes in values and returns the mean of the values. Create a list of numbers that you test on your function to check to make sure your function works!\n",
    "    \n",
    "    *Note*: Do not use any mean methods built-in to any Python libraries to do this! This should be done without importing any additional libraries."
   ]
  },
  {
   "cell_type": "code",
   "execution_count": 1,
   "metadata": {},
   "outputs": [
    {
     "data": {
      "text/plain": [
       "3.6666666666666665"
      ]
     },
     "execution_count": 1,
     "metadata": {},
     "output_type": "execute_result"
    }
   ],
   "source": [
    "# Code:\n",
    "\n",
    "def calculate_mean(numerical_list):\n",
    "    sum = 0\n",
    "    for i in numerical_list:\n",
    "        sum+=i\n",
    "    return sum/len(numerical_list)\n",
    "\n",
    "calculate_mean([1,5,6,3,7,0])"
   ]
  },
  {
   "cell_type": "markdown",
   "metadata": {},
   "source": [
    "2. Manually calculate standard deviation:\n",
    "\n",
    "    The formula for standard deviation is below:\n",
    "\n",
    "    $$\\sigma = \\sqrt{\\frac{1}{n}\\sum_{i=1}^n(x_i - \\mu)^2}$$\n",
    "\n",
    "    Where $x_i$ represents each value in the dataset, $\\mu$ represents the mean of all values in the dataset and $n$ represents the number of values in the dataset.\n",
    "\n",
    "    Write a function that takes in values and returns the standard deviation of the values using the formula above. Hint: use the function you wrote above to calculate the mean! Use the list of numbers you created above to test on your function.\n",
    "    \n",
    "    *Note*: Do not use any standard deviation methods built-in to any Python libraries to do this! This should be done without importing any additional libraries."
   ]
  },
  {
   "cell_type": "code",
   "execution_count": 2,
   "metadata": {},
   "outputs": [
    {
     "data": {
      "text/plain": [
       "2.560381915956203"
      ]
     },
     "execution_count": 2,
     "metadata": {},
     "output_type": "execute_result"
    }
   ],
   "source": [
    "# Code:\n",
    "def calculate_std_dev(numerical_list):\n",
    "    mean = calculate_mean(numerical_list)\n",
    "    sse = 0\n",
    "    for i in numerical_list:\n",
    "        sse += (i-mean)**2\n",
    "    std_dev = (sse/len(numerical_list))**0.5  \n",
    "    return std_dev\n",
    "\n",
    "calculate_std_dev([1,5,6,3,7,0])"
   ]
  },
  {
   "cell_type": "markdown",
   "metadata": {},
   "source": [
    "--- \n",
    "# Part 2\n",
    "\n",
    "Part 2 requires knowledge of Pandas, EDA, data cleaning, and data visualization.\n",
    "\n",
    "---"
   ]
  },
  {
   "cell_type": "markdown",
   "metadata": {},
   "source": [
    "*All libraries used should be added here*"
   ]
  },
  {
   "cell_type": "code",
   "execution_count": 3,
   "metadata": {},
   "outputs": [],
   "source": [
    "# Imports:\n",
    "import numpy as np\n",
    "import pandas as pd\n",
    "import matplotlib.pyplot as plt\n",
    "import seaborn as sns\n",
    "import glob as gl"
   ]
  },
  {
   "cell_type": "markdown",
   "metadata": {},
   "source": [
    "## Data Import and Cleaning"
   ]
  },
  {
   "cell_type": "markdown",
   "metadata": {},
   "source": [
    "### Data Import & Cleaning\n",
    "\n",
    "Import all the datasets that you selected for this project and go through the following steps at a minimum. You are welcome to do further cleaning as you feel necessary. Make sure to comment your code to showcase the intent behind the data processing step.\n",
    "1. Display the data: print the first 5 rows of each dataframe to your Jupyter notebook.\n",
    "2. Check for missing values and datatype.\n",
    "3. Check for any obvious issues with the observations.\n",
    "4. Fix any errors you identified in steps 2-3.\n",
    "6. Fix any incorrect data types found in step 5.\n",
    "    - Fix any individual values preventing other columns from being the appropriate type.\n",
    "    - If the month column data is better analyzed as month and year, create new columns for the same\n",
    "7. Rename Columns.\n",
    "    - Column names should be all lowercase.\n",
    "    - Column names should not contain spaces (underscores will suffice--this allows for using the `df.column_name` method to access columns in addition to `df['column_name']`).\n",
    "    - Column names should be unique and informative.\n",
    "8. Drop unnecessary rows (if needed).\n",
    "9. Merge dataframes that can be merged.\n",
    "    - Since different climate metrics are in month format, you can merge them into one single dataframe for easier analysis\n",
    "10. Perform any additional cleaning that you feel is necessary.\n",
    "11. Save your cleaned and merged dataframes as csv files."
   ]
  },
  {
   "cell_type": "code",
   "execution_count": 4,
   "metadata": {},
   "outputs": [
    {
     "name": "stdout",
     "output_type": "stream",
     "text": [
      "../data\\rainfall-monthly-highest-daily-total.csv\n",
      "../data\\rainfall-monthly-number-of-rain-days.csv\n",
      "../data\\rainfall-monthly-total.csv\n",
      "../data\\relative-humidity-monthly-mean.csv\n",
      "../data\\sunshine-duration-monthly-mean-daily-duration.csv\n",
      "../data\\surface-air-temperature-annual-mean-daily-minimum.csv\n",
      "../data\\surface-air-temperature-monthly-mean-daily-minimum.csv\n",
      "../data\\wet-bulb-temperature-hourly.csv\n"
     ]
    }
   ],
   "source": [
    "# loop over the list of csv files into dataframes\n",
    "path = \"../data/*.csv\"\n",
    "dfs = []\n",
    "\n",
    "for fname in gl.glob(path):\n",
    "    if 'result.csv' not in fname:\n",
    "        print(fname)\n",
    "        dfs.append(pd.read_csv(fname))"
   ]
  },
  {
   "cell_type": "code",
   "execution_count": 5,
   "metadata": {},
   "outputs": [
    {
     "name": "stdout",
     "output_type": "stream",
     "text": [
      "     month  maximum_rainfall_in_a_day\n",
      "0  1982-01                       36.5\n",
      "1  1982-02                        9.4\n",
      "2  1982-03                       61.7\n",
      "3  1982-04                       45.1\n",
      "4  1982-05                       33.0\n",
      "     month  no_of_rainy_days\n",
      "0  1982-01                10\n",
      "1  1982-02                 5\n",
      "2  1982-03                11\n",
      "3  1982-04                14\n",
      "4  1982-05                10\n",
      "     month  total_rainfall\n",
      "0  1982-01           107.1\n",
      "1  1982-02            27.8\n",
      "2  1982-03           160.8\n",
      "3  1982-04           157.0\n",
      "4  1982-05           102.2\n",
      "     month  mean_rh\n",
      "0  1982-01     81.2\n",
      "1  1982-02     79.5\n",
      "2  1982-03     82.3\n",
      "3  1982-04     85.9\n",
      "4  1982-05     83.2\n",
      "     month  mean_sunshine_hrs\n",
      "0  1982-01                5.6\n",
      "1  1982-02                7.6\n",
      "2  1982-03                5.1\n",
      "3  1982-04                4.7\n",
      "4  1982-05                5.8\n",
      "   year  tem_mean_daily_min\n",
      "0  1982                24.6\n",
      "1  1983                24.8\n",
      "2  1984                24.0\n",
      "3  1985                24.3\n",
      "4  1986                24.4\n",
      "     month  temp_mean_daily_min\n",
      "0  1982-01                 23.3\n",
      "1  1982-02                 23.9\n",
      "2  1982-03                 24.3\n",
      "3  1982-04                 24.3\n",
      "4  1982-05                 25.2\n",
      "     wbt_date  wbt_time  wet_bulb_temperature\n",
      "0  1982-01-01         1                  24.7\n",
      "1  1982-01-01         2                  24.5\n",
      "2  1982-01-01         3                  24.3\n",
      "3  1982-01-01         4                  24.2\n",
      "4  1982-01-01         5                  24.2\n"
     ]
    }
   ],
   "source": [
    "# 1. Display the data: print the first 5 rows of each dataframe to your Jupyter notebook.\n",
    "for i in dfs:\n",
    "    print(i.head(5))"
   ]
  },
  {
   "cell_type": "code",
   "execution_count": 6,
   "metadata": {},
   "outputs": [
    {
     "name": "stdout",
     "output_type": "stream",
     "text": [
      "{'month': 0, 'maximum_rainfall_in_a_day': 0}\n",
      "{'month': 0, 'no_of_rainy_days': 0}\n",
      "{'month': 0, 'total_rainfall': 0}\n",
      "{'month': 0, 'mean_rh': 0}\n",
      "{'month': 0, 'mean_sunshine_hrs': 0}\n",
      "{'year': 0, 'tem_mean_daily_min': 0}\n",
      "{'month': 0, 'temp_mean_daily_min': 0}\n",
      "{'wbt_date': 0, 'wbt_time': 0, 'wet_bulb_temperature': 0}\n"
     ]
    }
   ],
   "source": [
    "# 2. Check for missing values and datatype.\n",
    "for i in dfs:\n",
    "    print(dict(i.isna().sum()))"
   ]
  },
  {
   "cell_type": "code",
   "execution_count": 7,
   "metadata": {},
   "outputs": [
    {
     "name": "stdout",
     "output_type": "stream",
     "text": [
      "{'month': dtype('O'), 'maximum_rainfall_in_a_day': dtype('float64')}\n",
      "{'month': dtype('O'), 'no_of_rainy_days': dtype('int64')}\n",
      "{'month': dtype('O'), 'total_rainfall': dtype('float64')}\n",
      "{'month': dtype('O'), 'mean_rh': dtype('float64')}\n",
      "{'month': dtype('O'), 'mean_sunshine_hrs': dtype('float64')}\n",
      "{'year': dtype('int64'), 'tem_mean_daily_min': dtype('float64')}\n",
      "{'month': dtype('O'), 'temp_mean_daily_min': dtype('float64')}\n",
      "{'wbt_date': dtype('O'), 'wbt_time': dtype('int64'), 'wet_bulb_temperature': dtype('float64')}\n"
     ]
    }
   ],
   "source": [
    "# 3. Check for any obvious issues with the observations.\n",
    "for i in dfs:\n",
    "    print(f\"{dict(i.dtypes)}\")"
   ]
  },
  {
   "cell_type": "code",
   "execution_count": 8,
   "metadata": {},
   "outputs": [
    {
     "name": "stdout",
     "output_type": "stream",
     "text": [
      "Columns: ['month', 'maximum_rainfall_in_a_day'], Shape: (490, 2), from 1982-01 to 2022-10\n",
      "Columns: ['month', 'no_of_rainy_days'], Shape: (488, 2), from 1982-01 to 2022-08\n",
      "Columns: ['month', 'total_rainfall'], Shape: (488, 2), from 1982-01 to 2022-08\n",
      "Columns: ['month', 'mean_rh'], Shape: (490, 2), from 1982-01 to 2022-10\n",
      "Columns: ['month', 'mean_sunshine_hrs'], Shape: (490, 2), from 1982-01 to 2022-10\n",
      "Columns: ['month', 'temp_mean_daily_min'], Shape: (490, 2), from 1982-01 to 2022-10\n"
     ]
    }
   ],
   "source": [
    "# 4. Fix any errors you identified in steps 2-3.\n",
    "for i in dfs:\n",
    "    if 'month' in list(i.columns):\n",
    "        print(f\"Columns: {list(i.columns)}, Shape: {i.shape}, from {i['month'].min()} to {i['month'].max()}\")"
   ]
  },
  {
   "cell_type": "code",
   "execution_count": 9,
   "metadata": {},
   "outputs": [
    {
     "name": "stdout",
     "output_type": "stream",
     "text": [
      "{'month': dtype('<M8[ns]'), 'maximum_rainfall_in_a_day': dtype('float64')}\n",
      "{'month': dtype('<M8[ns]'), 'no_of_rainy_days': dtype('int64')}\n",
      "{'month': dtype('<M8[ns]'), 'total_rainfall': dtype('float64')}\n",
      "{'month': dtype('<M8[ns]'), 'mean_rh': dtype('float64')}\n",
      "{'month': dtype('<M8[ns]'), 'mean_sunshine_hrs': dtype('float64')}\n",
      "{'year': dtype('int64'), 'tem_mean_daily_min': dtype('float64')}\n",
      "{'month': dtype('<M8[ns]'), 'temp_mean_daily_min': dtype('float64')}\n",
      "{'wbt_date': dtype('<M8[ns]'), 'wbt_time': dtype('int64'), 'wet_bulb_temperature': dtype('float64')}\n"
     ]
    }
   ],
   "source": [
    "#Fix any incorrect data types found in step 5.\n",
    "# 5A. Fix any individual values preventing other columns from being the appropriate type.\n",
    "for df in dfs:\n",
    "    if 'month' in list(df.columns):\n",
    "        df['month']=pd.to_datetime(df['month'])\n",
    "    elif 'wbt_date' in list(df.columns):\n",
    "        df['wbt_date']=pd.to_datetime(df['wbt_date'])\n",
    "for i in dfs:\n",
    "    print(f\"{dict(i.dtypes)}\")"
   ]
  },
  {
   "cell_type": "code",
   "execution_count": 10,
   "metadata": {},
   "outputs": [
    {
     "name": "stdout",
     "output_type": "stream",
     "text": [
      "       month  maximum_rainfall_in_a_day  n_year  n_month\n",
      "0 1982-01-01                       36.5    1982        1\n",
      "1 1982-02-01                        9.4    1982        2\n",
      "2 1982-03-01                       61.7    1982        3\n",
      "3 1982-04-01                       45.1    1982        4\n",
      "4 1982-05-01                       33.0    1982        5\n",
      "       month  no_of_rainy_days  n_year  n_month\n",
      "0 1982-01-01                10    1982        1\n",
      "1 1982-02-01                 5    1982        2\n",
      "2 1982-03-01                11    1982        3\n",
      "3 1982-04-01                14    1982        4\n",
      "4 1982-05-01                10    1982        5\n",
      "       month  total_rainfall  n_year  n_month\n",
      "0 1982-01-01           107.1    1982        1\n",
      "1 1982-02-01            27.8    1982        2\n",
      "2 1982-03-01           160.8    1982        3\n",
      "3 1982-04-01           157.0    1982        4\n",
      "4 1982-05-01           102.2    1982        5\n",
      "       month  mean_rh  n_year  n_month\n",
      "0 1982-01-01     81.2    1982        1\n",
      "1 1982-02-01     79.5    1982        2\n",
      "2 1982-03-01     82.3    1982        3\n",
      "3 1982-04-01     85.9    1982        4\n",
      "4 1982-05-01     83.2    1982        5\n",
      "       month  mean_sunshine_hrs  n_year  n_month\n",
      "0 1982-01-01                5.6    1982        1\n",
      "1 1982-02-01                7.6    1982        2\n",
      "2 1982-03-01                5.1    1982        3\n",
      "3 1982-04-01                4.7    1982        4\n",
      "4 1982-05-01                5.8    1982        5\n",
      "   year  tem_mean_daily_min\n",
      "0  1982                24.6\n",
      "1  1983                24.8\n",
      "2  1984                24.0\n",
      "3  1985                24.3\n",
      "4  1986                24.4\n",
      "       month  temp_mean_daily_min  n_year  n_month\n",
      "0 1982-01-01                 23.3    1982        1\n",
      "1 1982-02-01                 23.9    1982        2\n",
      "2 1982-03-01                 24.3    1982        3\n",
      "3 1982-04-01                 24.3    1982        4\n",
      "4 1982-05-01                 25.2    1982        5\n",
      "    wbt_date  wbt_time  wet_bulb_temperature\n",
      "0 1982-01-01         1                  24.7\n",
      "1 1982-01-01         2                  24.5\n",
      "2 1982-01-01         3                  24.3\n",
      "3 1982-01-01         4                  24.2\n",
      "4 1982-01-01         5                  24.2\n"
     ]
    }
   ],
   "source": [
    "# 5B. If the month column data is better analyzed as month and year, create new columns for the same\n",
    "for df in dfs:\n",
    "    if 'month' in list(df.columns):\n",
    "        df['n_year']=df['month'].dt.year\n",
    "        df['n_month']=df['month'].dt.month\n",
    "\n",
    "for df in dfs:\n",
    "    print(df.head(5))"
   ]
  },
  {
   "cell_type": "code",
   "execution_count": 11,
   "metadata": {},
   "outputs": [],
   "source": [
    "# 6. Rename Columns.\n",
    "# Column names should be all lowercase.\n",
    "# Column names should not contain spaces (underscores will suffice--this allows for using the df.column_name method to access columns in addition to df['column_name']).\n",
    "# Column names should be unique and informative.\n",
    "#for df in dfs:\n",
    "#    df.rename(columns={})"
   ]
  },
  {
   "cell_type": "code",
   "execution_count": 12,
   "metadata": {},
   "outputs": [],
   "source": [
    "# 7. Drop unnecessary rows (if needed).\n",
    "for df in dfs[1:]:\n",
    "    if 'month' in list(df.columns):\n",
    "        df.drop('month', axis=1, inplace=True)"
   ]
  },
  {
   "cell_type": "code",
   "execution_count": 13,
   "metadata": {},
   "outputs": [
    {
     "data": {
      "text/html": [
       "<div>\n",
       "<style scoped>\n",
       "    .dataframe tbody tr th:only-of-type {\n",
       "        vertical-align: middle;\n",
       "    }\n",
       "\n",
       "    .dataframe tbody tr th {\n",
       "        vertical-align: top;\n",
       "    }\n",
       "\n",
       "    .dataframe thead th {\n",
       "        text-align: right;\n",
       "    }\n",
       "</style>\n",
       "<table border=\"1\" class=\"dataframe\">\n",
       "  <thead>\n",
       "    <tr style=\"text-align: right;\">\n",
       "      <th></th>\n",
       "      <th>month</th>\n",
       "      <th>maximum_rainfall_in_a_day</th>\n",
       "      <th>n_year</th>\n",
       "      <th>n_month</th>\n",
       "      <th>no_of_rainy_days</th>\n",
       "      <th>total_rainfall</th>\n",
       "      <th>mean_rh</th>\n",
       "      <th>mean_sunshine_hrs</th>\n",
       "      <th>temp_mean_daily_min</th>\n",
       "    </tr>\n",
       "  </thead>\n",
       "  <tbody>\n",
       "    <tr>\n",
       "      <th>0</th>\n",
       "      <td>1982-01-01</td>\n",
       "      <td>36.5</td>\n",
       "      <td>1982</td>\n",
       "      <td>1</td>\n",
       "      <td>10</td>\n",
       "      <td>107.1</td>\n",
       "      <td>81.2</td>\n",
       "      <td>5.6</td>\n",
       "      <td>23.3</td>\n",
       "    </tr>\n",
       "    <tr>\n",
       "      <th>1</th>\n",
       "      <td>1982-02-01</td>\n",
       "      <td>9.4</td>\n",
       "      <td>1982</td>\n",
       "      <td>2</td>\n",
       "      <td>5</td>\n",
       "      <td>27.8</td>\n",
       "      <td>79.5</td>\n",
       "      <td>7.6</td>\n",
       "      <td>23.9</td>\n",
       "    </tr>\n",
       "    <tr>\n",
       "      <th>2</th>\n",
       "      <td>1982-03-01</td>\n",
       "      <td>61.7</td>\n",
       "      <td>1982</td>\n",
       "      <td>3</td>\n",
       "      <td>11</td>\n",
       "      <td>160.8</td>\n",
       "      <td>82.3</td>\n",
       "      <td>5.1</td>\n",
       "      <td>24.3</td>\n",
       "    </tr>\n",
       "    <tr>\n",
       "      <th>3</th>\n",
       "      <td>1982-04-01</td>\n",
       "      <td>45.1</td>\n",
       "      <td>1982</td>\n",
       "      <td>4</td>\n",
       "      <td>14</td>\n",
       "      <td>157.0</td>\n",
       "      <td>85.9</td>\n",
       "      <td>4.7</td>\n",
       "      <td>24.3</td>\n",
       "    </tr>\n",
       "    <tr>\n",
       "      <th>4</th>\n",
       "      <td>1982-05-01</td>\n",
       "      <td>33.0</td>\n",
       "      <td>1982</td>\n",
       "      <td>5</td>\n",
       "      <td>10</td>\n",
       "      <td>102.2</td>\n",
       "      <td>83.2</td>\n",
       "      <td>5.8</td>\n",
       "      <td>25.2</td>\n",
       "    </tr>\n",
       "  </tbody>\n",
       "</table>\n",
       "</div>"
      ],
      "text/plain": [
       "       month  maximum_rainfall_in_a_day  n_year  n_month  no_of_rainy_days  \\\n",
       "0 1982-01-01                       36.5    1982        1                10   \n",
       "1 1982-02-01                        9.4    1982        2                 5   \n",
       "2 1982-03-01                       61.7    1982        3                11   \n",
       "3 1982-04-01                       45.1    1982        4                14   \n",
       "4 1982-05-01                       33.0    1982        5                10   \n",
       "\n",
       "   total_rainfall  mean_rh  mean_sunshine_hrs  temp_mean_daily_min  \n",
       "0           107.1     81.2                5.6                 23.3  \n",
       "1            27.8     79.5                7.6                 23.9  \n",
       "2           160.8     82.3                5.1                 24.3  \n",
       "3           157.0     85.9                4.7                 24.3  \n",
       "4           102.2     83.2                5.8                 25.2  "
      ]
     },
     "execution_count": 13,
     "metadata": {},
     "output_type": "execute_result"
    }
   ],
   "source": [
    "# 8. Merge dataframes that can be merged. \n",
    "# Since different climate metrics are in month format, you can merge them into one single dataframe for easier analysis\n",
    "result = dfs[0]\n",
    "for df in dfs[1:]:\n",
    "    if 'n_month' in list(df.columns):\n",
    "        result = result.merge(df, on = ['n_month','n_year'], how='inner')\n",
    "\n",
    "result.head(5)"
   ]
  },
  {
   "cell_type": "code",
   "execution_count": 14,
   "metadata": {},
   "outputs": [
    {
     "data": {
      "text/html": [
       "<div>\n",
       "<style scoped>\n",
       "    .dataframe tbody tr th:only-of-type {\n",
       "        vertical-align: middle;\n",
       "    }\n",
       "\n",
       "    .dataframe tbody tr th {\n",
       "        vertical-align: top;\n",
       "    }\n",
       "\n",
       "    .dataframe thead th {\n",
       "        text-align: right;\n",
       "    }\n",
       "</style>\n",
       "<table border=\"1\" class=\"dataframe\">\n",
       "  <thead>\n",
       "    <tr style=\"text-align: right;\">\n",
       "      <th></th>\n",
       "      <th>n_year</th>\n",
       "      <th>n_month</th>\n",
       "      <th>maximum_rainfall_in_a_day</th>\n",
       "      <th>no_of_rainy_days</th>\n",
       "      <th>total_rainfall</th>\n",
       "      <th>mean_rh</th>\n",
       "      <th>mean_sunshine_hrs</th>\n",
       "      <th>temp_mean_daily_min</th>\n",
       "    </tr>\n",
       "  </thead>\n",
       "  <tbody>\n",
       "    <tr>\n",
       "      <th>0</th>\n",
       "      <td>1982</td>\n",
       "      <td>1</td>\n",
       "      <td>36.5</td>\n",
       "      <td>10</td>\n",
       "      <td>107.1</td>\n",
       "      <td>81.2</td>\n",
       "      <td>5.6</td>\n",
       "      <td>23.3</td>\n",
       "    </tr>\n",
       "    <tr>\n",
       "      <th>1</th>\n",
       "      <td>1982</td>\n",
       "      <td>2</td>\n",
       "      <td>9.4</td>\n",
       "      <td>5</td>\n",
       "      <td>27.8</td>\n",
       "      <td>79.5</td>\n",
       "      <td>7.6</td>\n",
       "      <td>23.9</td>\n",
       "    </tr>\n",
       "    <tr>\n",
       "      <th>2</th>\n",
       "      <td>1982</td>\n",
       "      <td>3</td>\n",
       "      <td>61.7</td>\n",
       "      <td>11</td>\n",
       "      <td>160.8</td>\n",
       "      <td>82.3</td>\n",
       "      <td>5.1</td>\n",
       "      <td>24.3</td>\n",
       "    </tr>\n",
       "    <tr>\n",
       "      <th>3</th>\n",
       "      <td>1982</td>\n",
       "      <td>4</td>\n",
       "      <td>45.1</td>\n",
       "      <td>14</td>\n",
       "      <td>157.0</td>\n",
       "      <td>85.9</td>\n",
       "      <td>4.7</td>\n",
       "      <td>24.3</td>\n",
       "    </tr>\n",
       "    <tr>\n",
       "      <th>4</th>\n",
       "      <td>1982</td>\n",
       "      <td>5</td>\n",
       "      <td>33.0</td>\n",
       "      <td>10</td>\n",
       "      <td>102.2</td>\n",
       "      <td>83.2</td>\n",
       "      <td>5.8</td>\n",
       "      <td>25.2</td>\n",
       "    </tr>\n",
       "  </tbody>\n",
       "</table>\n",
       "</div>"
      ],
      "text/plain": [
       "   n_year  n_month  maximum_rainfall_in_a_day  no_of_rainy_days  \\\n",
       "0    1982        1                       36.5                10   \n",
       "1    1982        2                        9.4                 5   \n",
       "2    1982        3                       61.7                11   \n",
       "3    1982        4                       45.1                14   \n",
       "4    1982        5                       33.0                10   \n",
       "\n",
       "   total_rainfall  mean_rh  mean_sunshine_hrs  temp_mean_daily_min  \n",
       "0           107.1     81.2                5.6                 23.3  \n",
       "1            27.8     79.5                7.6                 23.9  \n",
       "2           160.8     82.3                5.1                 24.3  \n",
       "3           157.0     85.9                4.7                 24.3  \n",
       "4           102.2     83.2                5.8                 25.2  "
      ]
     },
     "execution_count": 14,
     "metadata": {},
     "output_type": "execute_result"
    }
   ],
   "source": [
    "# 9. Perform any additional cleaning that you feel is necessary.\n",
    "result = result[['n_year','n_month','maximum_rainfall_in_a_day','no_of_rainy_days','total_rainfall','mean_rh','mean_sunshine_hrs','temp_mean_daily_min']]\n",
    "result.head()"
   ]
  },
  {
   "cell_type": "code",
   "execution_count": 15,
   "metadata": {},
   "outputs": [
    {
     "name": "stdout",
     "output_type": "stream",
     "text": [
      "<class 'pandas.core.frame.DataFrame'>\n",
      "Int64Index: 488 entries, 0 to 487\n",
      "Data columns (total 8 columns):\n",
      " #   Column                     Non-Null Count  Dtype  \n",
      "---  ------                     --------------  -----  \n",
      " 0   n_year                     488 non-null    int64  \n",
      " 1   n_month                    488 non-null    int64  \n",
      " 2   maximum_rainfall_in_a_day  488 non-null    float64\n",
      " 3   no_of_rainy_days           488 non-null    int64  \n",
      " 4   total_rainfall             488 non-null    float64\n",
      " 5   mean_rh                    488 non-null    float64\n",
      " 6   mean_sunshine_hrs          488 non-null    float64\n",
      " 7   temp_mean_daily_min        488 non-null    float64\n",
      "dtypes: float64(5), int64(3)\n",
      "memory usage: 34.3 KB\n"
     ]
    }
   ],
   "source": [
    "result.info()"
   ]
  },
  {
   "cell_type": "code",
   "execution_count": 16,
   "metadata": {},
   "outputs": [],
   "source": [
    "# 10. Save your cleaned and merged dataframes as csv files.\n",
    "file_name = '../data/result.csv'\n",
    "result.to_csv(file_name, encoding='utf-8', index=False)"
   ]
  },
  {
   "cell_type": "markdown",
   "metadata": {},
   "source": [
    "### Data Dictionary\n",
    "\n",
    "Now that we've fixed our data, and given it appropriate names, let's create a [data dictionary](http://library.ucmerced.edu/node/10249). \n",
    "\n",
    "A data dictionary provides a quick overview of features/variables/columns, alongside data types and descriptions. The more descriptive you can be, the more useful this document is.\n",
    "\n",
    "Example of a Fictional Data Dictionary Entry: \n",
    "\n",
    "|Feature|Type|Dataset|Description|\n",
    "|---|---|---|---|\n",
    "|**county_pop**|*integer*|2010 census|The population of the county (units in thousands, where 2.5 represents 2500 people).| \n",
    "|**per_poverty**|*float*|2010 census|The percent of the county over the age of 18 living below the 200% of official US poverty rate (units percent to two decimal places 98.10 means 98.1%)|\n",
    "\n",
    "[Here's a quick link to a short guide for formatting markdown in Jupyter notebooks](https://jupyter-notebook.readthedocs.io/en/stable/examples/Notebook/Working%20With%20Markdown%20Cells.html).\n",
    "\n",
    "Provided is the skeleton for formatting a markdown table, with columns headers that will help you create a data dictionary to quickly summarize your data, as well as some examples. **This would be a great thing to copy and paste into your custom README for this project.**\n",
    "\n",
    "*Note*: if you are unsure of what a feature is, check the source of the data! This can be found in the README."
   ]
  },
  {
   "cell_type": "code",
   "execution_count": 17,
   "metadata": {},
   "outputs": [
    {
     "name": "stdout",
     "output_type": "stream",
     "text": [
      "|n_year|int64|1982-2022 climate data|-|\n",
      "|n_month|int64|1982-2022 climate data|-|\n",
      "|maximum_rainfall_in_a_day|float64|1982-2022 climate data|-|\n",
      "|no_of_rainy_days|int64|1982-2022 climate data|-|\n",
      "|total_rainfall|float64|1982-2022 climate data|-|\n",
      "|mean_rh|float64|1982-2022 climate data|-|\n",
      "|mean_sunshine_hrs|float64|1982-2022 climate data|-|\n",
      "|temp_mean_daily_min|float64|1982-2022 climate data|-|\n"
     ]
    }
   ],
   "source": [
    "for i in list(result.columns):\n",
    "    print(f\"|{i}|{result[i].dtypes}|1982-2022 climate data|-|\")"
   ]
  },
  {
   "cell_type": "markdown",
   "metadata": {},
   "source": [
    "**To-Do:** *Edit the table below to create your own data dictionary for the datasets you chose.*\n",
    "\n",
    "|Feature|Type|Dataset|Description|\n",
    "|---|---|---|---|\n",
    "|n_year|int64|1982-2022 climate data|Year|\n",
    "|n_month|int64|1982-2022 climate data|Month|\n",
    "|maximum_rainfall_in_a_day|float64|1982-2022 climate data|Highest Daily Rainfall in the Month in millimeters|\n",
    "|no_of_rainy_days|int64|1982-2022 climate data|Number of rainy days per month|\n",
    "|total_rainfall|float64|1982-2022 climate data|Total rainfall per month in millimeters |\n",
    "|mean_rh|float64|1982-2022 climate data|The monthly mean relative humidity recorded at the Changi Climate Station.|\n",
    "|mean_sunshine_hrs|float64|1982-2022 climate data|The monthly mean sunshine hours in a day recorded at the Changi Climate Station.|\n",
    "|temp_mean_daily_min|float64|1982-2022 climate data|The monthly mean daily minimum temperature recorded at the Changi Climate Station.|\n"
   ]
  },
  {
   "cell_type": "markdown",
   "metadata": {},
   "source": [
    "## Exploratory Data Analysis\n",
    "\n",
    "Complete the following steps to explore your data. You are welcome to do more EDA than the steps outlined here as you feel necessary:\n",
    "1. Summary Statistics.\n",
    "2. Use a **dictionary comprehension** to apply the standard deviation function you create in part 1 to each numeric column in the dataframe.  **No loops**.\n",
    "    - Assign the output to variable `sd` as a dictionary where: \n",
    "        - Each column name is now a key \n",
    "        - That standard deviation of the column is the value \n",
    "        - *Example Output :* `{'rainfall-monthly-total': xxx, 'no_of_rainy_days': xxx, ...}`\n",
    "3. Investigate trends in the data.\n",
    "    - Using sorting and/or masking (along with the `.head()` method to avoid printing our entire dataframe), consider questions relevant to your problem statement. Some examples are provided below (but feel free to change these questions for your specific problem):\n",
    "        - Which month have the highest and lowest total rainfall in 1990, 2000, 2010 and 2020?\n",
    "        - Which year have the highest and lowest total rainfall in the date range of analysis?\n",
    "        - Which month have the highest and lowest number of rainy days in 1990, 2000, 2010 and 2020?\n",
    "        - Which year have the highest and lowest number of rainy days in the date range of analysis?\n",
    "        - Are there any outliers months in the dataset?\n",
    "       \n",
    "    - **The above 5 questions are compulsory. Feel free to explore other trends based on the datasets that you have choosen for analysis. You should comment on your findings at each step in a markdown cell below your code block**. Make sure you include at least one example of sorting your dataframe by a column, and one example of using boolean filtering (i.e., masking) to select a subset of the dataframe."
   ]
  },
  {
   "cell_type": "code",
   "execution_count": 18,
   "metadata": {},
   "outputs": [
    {
     "data": {
      "text/html": [
       "<div>\n",
       "<style scoped>\n",
       "    .dataframe tbody tr th:only-of-type {\n",
       "        vertical-align: middle;\n",
       "    }\n",
       "\n",
       "    .dataframe tbody tr th {\n",
       "        vertical-align: top;\n",
       "    }\n",
       "\n",
       "    .dataframe thead th {\n",
       "        text-align: right;\n",
       "    }\n",
       "</style>\n",
       "<table border=\"1\" class=\"dataframe\">\n",
       "  <thead>\n",
       "    <tr style=\"text-align: right;\">\n",
       "      <th></th>\n",
       "      <th>n_year</th>\n",
       "      <th>n_month</th>\n",
       "      <th>maximum_rainfall_in_a_day</th>\n",
       "      <th>no_of_rainy_days</th>\n",
       "      <th>total_rainfall</th>\n",
       "      <th>mean_rh</th>\n",
       "      <th>mean_sunshine_hrs</th>\n",
       "      <th>temp_mean_daily_min</th>\n",
       "    </tr>\n",
       "  </thead>\n",
       "  <tbody>\n",
       "    <tr>\n",
       "      <th>count</th>\n",
       "      <td>488.000000</td>\n",
       "      <td>488.000000</td>\n",
       "      <td>488.000000</td>\n",
       "      <td>488.000000</td>\n",
       "      <td>488.000000</td>\n",
       "      <td>488.000000</td>\n",
       "      <td>488.000000</td>\n",
       "      <td>488.000000</td>\n",
       "    </tr>\n",
       "    <tr>\n",
       "      <th>mean</th>\n",
       "      <td>2001.836066</td>\n",
       "      <td>6.467213</td>\n",
       "      <td>52.332172</td>\n",
       "      <td>14.061475</td>\n",
       "      <td>177.163730</td>\n",
       "      <td>82.247541</td>\n",
       "      <td>5.688320</td>\n",
       "      <td>24.919467</td>\n",
       "    </tr>\n",
       "    <tr>\n",
       "      <th>std</th>\n",
       "      <td>11.752660</td>\n",
       "      <td>3.449095</td>\n",
       "      <td>35.746423</td>\n",
       "      <td>4.947394</td>\n",
       "      <td>113.916029</td>\n",
       "      <td>3.413940</td>\n",
       "      <td>1.205705</td>\n",
       "      <td>0.734994</td>\n",
       "    </tr>\n",
       "    <tr>\n",
       "      <th>min</th>\n",
       "      <td>1982.000000</td>\n",
       "      <td>1.000000</td>\n",
       "      <td>0.200000</td>\n",
       "      <td>1.000000</td>\n",
       "      <td>0.200000</td>\n",
       "      <td>72.000000</td>\n",
       "      <td>2.700000</td>\n",
       "      <td>22.900000</td>\n",
       "    </tr>\n",
       "    <tr>\n",
       "      <th>25%</th>\n",
       "      <td>1992.000000</td>\n",
       "      <td>3.000000</td>\n",
       "      <td>30.675000</td>\n",
       "      <td>11.000000</td>\n",
       "      <td>93.850000</td>\n",
       "      <td>80.000000</td>\n",
       "      <td>4.800000</td>\n",
       "      <td>24.400000</td>\n",
       "    </tr>\n",
       "    <tr>\n",
       "      <th>50%</th>\n",
       "      <td>2002.000000</td>\n",
       "      <td>6.000000</td>\n",
       "      <td>43.900000</td>\n",
       "      <td>14.000000</td>\n",
       "      <td>159.450000</td>\n",
       "      <td>82.650000</td>\n",
       "      <td>5.700000</td>\n",
       "      <td>24.900000</td>\n",
       "    </tr>\n",
       "    <tr>\n",
       "      <th>75%</th>\n",
       "      <td>2012.000000</td>\n",
       "      <td>9.000000</td>\n",
       "      <td>63.050000</td>\n",
       "      <td>18.000000</td>\n",
       "      <td>238.075000</td>\n",
       "      <td>84.700000</td>\n",
       "      <td>6.500000</td>\n",
       "      <td>25.400000</td>\n",
       "    </tr>\n",
       "    <tr>\n",
       "      <th>max</th>\n",
       "      <td>2022.000000</td>\n",
       "      <td>12.000000</td>\n",
       "      <td>216.200000</td>\n",
       "      <td>27.000000</td>\n",
       "      <td>765.900000</td>\n",
       "      <td>90.700000</td>\n",
       "      <td>9.300000</td>\n",
       "      <td>27.100000</td>\n",
       "    </tr>\n",
       "  </tbody>\n",
       "</table>\n",
       "</div>"
      ],
      "text/plain": [
       "            n_year     n_month  maximum_rainfall_in_a_day  no_of_rainy_days  \\\n",
       "count   488.000000  488.000000                 488.000000        488.000000   \n",
       "mean   2001.836066    6.467213                  52.332172         14.061475   \n",
       "std      11.752660    3.449095                  35.746423          4.947394   \n",
       "min    1982.000000    1.000000                   0.200000          1.000000   \n",
       "25%    1992.000000    3.000000                  30.675000         11.000000   \n",
       "50%    2002.000000    6.000000                  43.900000         14.000000   \n",
       "75%    2012.000000    9.000000                  63.050000         18.000000   \n",
       "max    2022.000000   12.000000                 216.200000         27.000000   \n",
       "\n",
       "       total_rainfall     mean_rh  mean_sunshine_hrs  temp_mean_daily_min  \n",
       "count      488.000000  488.000000         488.000000           488.000000  \n",
       "mean       177.163730   82.247541           5.688320            24.919467  \n",
       "std        113.916029    3.413940           1.205705             0.734994  \n",
       "min          0.200000   72.000000           2.700000            22.900000  \n",
       "25%         93.850000   80.000000           4.800000            24.400000  \n",
       "50%        159.450000   82.650000           5.700000            24.900000  \n",
       "75%        238.075000   84.700000           6.500000            25.400000  \n",
       "max        765.900000   90.700000           9.300000            27.100000  "
      ]
     },
     "execution_count": 18,
     "metadata": {},
     "output_type": "execute_result"
    }
   ],
   "source": [
    "#1. Summary statistics:\n",
    "result.describe()"
   ]
  },
  {
   "cell_type": "code",
   "execution_count": 19,
   "metadata": {},
   "outputs": [
    {
     "data": {
      "text/plain": [
       "{'n_year': 11.740612333388459,\n",
       " 'n_month': 3.4455588574029625,\n",
       " 'maximum_rainfall_in_a_day': 35.70977918873312,\n",
       " 'no_of_rainy_days': 4.9423221913224085,\n",
       " 'total_rainfall': 113.79925170470057,\n",
       " 'mean_rh': 3.4104399291902836,\n",
       " 'mean_sunshine_hrs': 1.2044686452879794,\n",
       " 'temp_mean_daily_min': 0.7342402416999341}"
      ]
     },
     "execution_count": 19,
     "metadata": {},
     "output_type": "execute_result"
    }
   ],
   "source": [
    "#Use a dictionary comprehension to apply the standard deviation function you create in part 1 to each numeric column in the dataframe. No loops.\n",
    "#Assign the output to variable sd as a dictionary where:\n",
    "#Each column name is now a key\n",
    "#That standard deviation of the column is the value\n",
    "#Example Output : {'rainfall-monthly-total': xxx, 'no_of_ra iny_days': xxx, ...}\n",
    "keys = list(result.columns)\n",
    "{k:calculate_std_dev(result[k]) for k in keys}"
   ]
  },
  {
   "cell_type": "code",
   "execution_count": 34,
   "metadata": {},
   "outputs": [],
   "source": [
    "#3 Using sorting and/or masking (along with the .head() method to avoid printing our entire dataframe), consider questions relevant to your problem statement. Some examples are provided below (but feel free to change these questions for your specific problem):"
   ]
  },
  {
   "cell_type": "code",
   "execution_count": 33,
   "metadata": {},
   "outputs": [
    {
     "name": "stdout",
     "output_type": "stream",
     "text": [
      "In 1990, month 2 has lowest 24.1 mm total rainfall, month 9 has highest 204.5 mm total rainfall.\n",
      "In 2000, month 9 has lowest 81.1 mm total rainfall, month 11 has highest 385.7 mm total rainfall.\n",
      "In 2010, month 2 has lowest 6.3 mm total rainfall, month 7 has highest 298.5 mm total rainfall.\n",
      "In 2020, month 2 has lowest 65.0 mm total rainfall, month 5 has highest 255.6 mm total rainfall.\n"
     ]
    }
   ],
   "source": [
    "#Which month have the highest and lowest total rainfall in 1990, 2000, 2010 and 2020?\n",
    "result = result.reset_index(drop=True)\n",
    "col = 'total_rainfall'\n",
    "for year in [1990,2000,2010,2020]:\n",
    "    highest = result.loc[result[result['n_year']==year][col].idxmax()]\n",
    "    lowest = result.loc[result[result['n_year']==year][col].idxmin()]\n",
    "    print(f\"In {year}, month {int(lowest['n_month'])} has lowest {lowest[col]} mm total rainfall, month {int(highest['n_month'])} has highest {highest[col]} mm total rainfall.\")"
   ]
  },
  {
   "cell_type": "code",
   "execution_count": 22,
   "metadata": {},
   "outputs": [
    {
     "name": "stdout",
     "output_type": "stream",
     "text": [
      "Year 2007 has the highest total rainfall of 2886.2 mm\n",
      "Year 1997 has the lowest total rainfall of 1118.9 mm\n"
     ]
    }
   ],
   "source": [
    "#Which year have the highest and lowest total rainfall in the date range of analysis?\n",
    "agg = result.groupby(['n_year'], as_index = False)['total_rainfall'].sum().sort_values(ascending=False,by = 'total_rainfall')\n",
    "print(f\"Year {int(agg.iloc[0]['n_year'])} has the highest total rainfall of {agg.iloc[0]['total_rainfall']} mm\")\n",
    "print(f\"Year {int(agg.iloc[-1]['n_year'])} has the lowest total rainfall of {agg.iloc[-1]['total_rainfall']} mm\")"
   ]
  },
  {
   "cell_type": "code",
   "execution_count": 32,
   "metadata": {},
   "outputs": [
    {
     "name": "stdout",
     "output_type": "stream",
     "text": [
      "In 1990, month 3 has lowest 4.0 rainy days, month 9 has highest 17.0 rainy days\n",
      "In 2000, month 5 has lowest 10.0 rainy days, month 11 has highest 21.0 rainy days\n",
      "In 2010, month 2 has lowest 4.0 rainy days, month 11 has highest 21.0 rainy days\n",
      "In 2020, month 1 has lowest 6.0 rainy days, month 7 has highest 22.0 rainy days\n"
     ]
    }
   ],
   "source": [
    "#Which month have the highest and lowest number of rainy days in 1990, 2000, 2010 and 2020?\n",
    "col = 'no_of_rainy_days'\n",
    "for year in [1990,2000,2010,2020]:\n",
    "    highest = result.loc[result[result['n_year']==year][col].idxmax()]\n",
    "    lowest = result.loc[result[result['n_year']==year][col].idxmin()]\n",
    "    print(f\"In {year}, month {int(lowest['n_month'])} has lowest {lowest[col]} rainy days, month {int(highest['n_month'])} has highest {highest[col]} rainy days\")"
   ]
  },
  {
   "cell_type": "code",
   "execution_count": 24,
   "metadata": {},
   "outputs": [
    {
     "name": "stdout",
     "output_type": "stream",
     "text": [
      "Year 2013 has the highest total rainy days of 206 days\n",
      "Year 1997 has the lowest total rainy days of 116 days\n"
     ]
    }
   ],
   "source": [
    "#Which year have the highest and lowest number of rainy days in the date range of analysis?\n",
    "agg = result.groupby(['n_year'], as_index = False)['no_of_rainy_days'].sum().sort_values(ascending=False,by = 'no_of_rainy_days')\n",
    "print(f\"Year {int(agg.iloc[0]['n_year'])} has the highest total rainy days of {agg.iloc[0]['no_of_rainy_days']} days\")\n",
    "print(f\"Year {int(agg.iloc[-1]['n_year'])} has the lowest total rainy days of {agg.iloc[-1]['no_of_rainy_days']} days\")"
   ]
  },
  {
   "cell_type": "code",
   "execution_count": 45,
   "metadata": {},
   "outputs": [
    {
     "data": {
      "text/plain": [
       "[494.1,\n",
       " 470.4,\n",
       " 568.6,\n",
       " 508.4,\n",
       " 492.3,\n",
       " 474.3,\n",
       " 502.7,\n",
       " 463.4,\n",
       " 609.0,\n",
       " 600.9,\n",
       " 765.9,\n",
       " 468.6,\n",
       " 513.2,\n",
       " 692.8]"
      ]
     },
     "execution_count": 45,
     "metadata": {},
     "output_type": "execute_result"
    }
   ],
   "source": [
    "#Are there any outliers months in the dataset?\n",
    "def find_outliers(df,col):\n",
    "    q1, q3= np.percentile(df[col],[25,75])\n",
    "    iqr = q3-q1\n",
    "    lower_bound = q1 - 1.5*iqr\n",
    "    upper_bound = q3 + 1.5*iqr\n",
    "    outliers = [x for x in df[col] if x<lower_bound or x>upper_bound]\n",
    "    return outliers\n",
    "\n",
    "find_outliers(result,'total_rainfall')\n"
   ]
  },
  {
   "cell_type": "markdown",
   "metadata": {
    "tags": []
   },
   "source": [
    "**To-Do:** *Edit this cell with your findings on trends in the data (step 3 above).*"
   ]
  },
  {
   "cell_type": "markdown",
   "metadata": {},
   "source": [
    "## Visualize the Data\n",
    "\n",
    "There's not a magic bullet recommendation for the right number of plots to understand a given dataset, but visualizing your data is *always* a good idea. Not only does it allow you to quickly convey your findings (even if you have a non-technical audience), it will often reveal trends in your data that escaped you when you were looking only at numbers. It is important to not only create visualizations, but to **interpret your visualizations** as well.\n",
    "\n",
    "**Every plot should**:\n",
    "- Have a title\n",
    "- Have axis labels\n",
    "- Have appropriate tick labels\n",
    "- Text is legible in a plot\n",
    "- Plots demonstrate meaningful and valid relationships\n",
    "- Have an interpretation to aid understanding\n",
    "\n",
    "Here is an example of what your plots should look like following the above guidelines. Note that while the content of this example is unrelated, the principles of visualization hold:\n",
    "\n",
    "![](https://snag.gy/hCBR1U.jpg)\n",
    "*Interpretation: The above image shows that as we increase our spending on advertising, our sales numbers also tend to increase. There is a positive correlation between advertising spending and sales.*\n",
    "\n",
    "---\n",
    "\n",
    "Here are some prompts to get you started with visualizations. Feel free to add additional visualizations as you see fit:\n",
    "1. Use Seaborn's heatmap with pandas `.corr()` to visualize correlations between all numeric features.\n",
    "    - Heatmaps are generally not appropriate for presentations, and should often be excluded from reports as they can be visually overwhelming. **However**, they can be extremely useful in identify relationships of potential interest (as well as identifying potential collinearity before modeling).\n",
    "    - Please take time to format your output, adding a title. Look through some of the additional arguments and options. (Axis labels aren't really necessary, as long as the title is informative).\n",
    "2. Visualize distributions using histograms. If you have a lot, consider writing a custom function and use subplots.\n",
    "    - *OPTIONAL*: Summarize the underlying distributions of your features (in words & statistics)\n",
    "         - Be thorough in your verbal description of these distributions.\n",
    "         - Be sure to back up these summaries with statistics.\n",
    "         - We generally assume that data we sample from a population will be normally distributed. Do we observe this trend? Explain your answers for each distribution and how you think this will affect estimates made from these data.\n",
    "3. Plot and interpret boxplots. \n",
    "    - Boxplots demonstrate central tendency and spread in variables. In a certain sense, these are somewhat redundant with histograms, but you may be better able to identify clear outliers or differences in IQR, etc.\n",
    "    - Multiple values can be plotted to a single boxplot as long as they are of the same relative scale (meaning they have similar min/max values).\n",
    "    - Each boxplot should:\n",
    "        - Only include variables of a similar scale\n",
    "        - Have clear labels for each variable\n",
    "        - Have appropriate titles and labels\n",
    "4. Plot and interpret scatter plots to view relationships between features. Feel free to write a custom function, and subplot if you'd like. Functions save both time and space.\n",
    "    - Your plots should have:\n",
    "        - Two clearly labeled axes\n",
    "        - A proper title\n",
    "        - Colors and symbols that are clear and unmistakable\n",
    "5. Additional plots of your choosing.\n",
    "    - Are there any additional trends or relationships you haven't explored? Was there something interesting you saw that you'd like to dive further into? It's likely that there are a few more plots you might want to generate to support your narrative and recommendations that you are building toward. **As always, make sure you're interpreting your plots as you go**."
   ]
  },
  {
   "cell_type": "markdown",
   "metadata": {},
   "source": [
    "Some ideas for plots that can be generated:\n",
    "\n",
    "- Plot the histogram of the rainfall data with various bins and comment on the distribution of the data - is it centered, skewed?\n",
    "- Plot the box-and-whiskers plot. Comment on the different quartiles and identify any outliers in the dataset. \n",
    "- Is there a correlation between the number of rainy days and total rainfall in the month? What kind of correlation do your suspect? Does the graph show the same?\n"
   ]
  },
  {
   "cell_type": "code",
   "execution_count": 27,
   "metadata": {},
   "outputs": [],
   "source": [
    "# Code"
   ]
  },
  {
   "cell_type": "markdown",
   "metadata": {},
   "source": [
    "## Conclusions and Recommendations"
   ]
  },
  {
   "cell_type": "markdown",
   "metadata": {},
   "source": [
    "Based on your exploration of the data, what are you key takeaways and recommendations? Make sure to answer your question of interest or address your problem statement here."
   ]
  },
  {
   "cell_type": "markdown",
   "metadata": {},
   "source": [
    "**To-Do:** *Edit this cell with your conclusions and recommendations.*"
   ]
  },
  {
   "cell_type": "markdown",
   "metadata": {},
   "source": [
    "Don't forget to create your README!\n",
    "\n",
    "**To-Do:** *If you combine your problem statement, data dictionary, brief summary of your analysis, and conclusions/recommendations, you have an amazing README.md file that quickly aligns your audience to the contents of your project.* Don't forget to cite your data sources!"
   ]
  }
 ],
 "metadata": {
  "anaconda-cloud": {},
  "kernelspec": {
   "display_name": "dsi-sg",
   "language": "python",
   "name": "dsi-sg"
  },
  "language_info": {
   "codemirror_mode": {
    "name": "ipython",
    "version": 3
   },
   "file_extension": ".py",
   "mimetype": "text/x-python",
   "name": "python",
   "nbconvert_exporter": "python",
   "pygments_lexer": "ipython3",
   "version": "3.9.13"
  }
 },
 "nbformat": 4,
 "nbformat_minor": 4
}
